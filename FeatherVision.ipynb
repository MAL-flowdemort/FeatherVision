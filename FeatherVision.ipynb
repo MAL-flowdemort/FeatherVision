{
 "cells": [
  {
   "cell_type": "markdown",
   "metadata": {},
   "source": [
    "![title](image.png)\n",
    "\n",
    "<h1>Feather Vision</h1>\n"
   ]
  },
  {
   "cell_type": "markdown",
   "metadata": {},
   "source": [
    "<h2>1. Analysis</h2>"
   ]
  },
  {
   "cell_type": "markdown",
   "metadata": {},
   "source": [
    "<style>\n",
    "\tp {\n",
    "\t\tline-height: 180%;\n",
    "\t}\n",
    "</style>\n",
    "<h3>1.1. Project description </h3>\n",
    "\n",
    "<p>Ornithology enthusiasts and zoologists are people we thank for protecting and discovering new species on almost daily basis. Their jobs are alredy extremely difficult with the amount of information they have to keep track of while always being on the lookout for rare sightings of exotic birds.\n",
    "With FeatherVision their job will be made much easier, when it comes to identifying numerous different species of birds.</p>\n",
    "<p>The objective of our project is to create a machine learning model capable of accurately classifying bird species based on visual attributes in images. This way anyone could become a beginner ornithologist by simply capturing an image of their own and find out the details of the fauna in their local area. And for those advanced in the field, they could spend more time taking care of endangered species and researching by decreasing the precious time needed to properly identify these species.</p> \n",
    "<p> The world of birds is enormous and with FeatherVision you will never get lost in it again!  </p>"
   ]
  },
  {
   "cell_type": "markdown",
   "metadata": {},
   "source": [
    "<style>\n",
    "\tp {\n",
    "\t\tline-height: 180%;\n",
    "\t}\n",
    "</style>\n",
    "\n",
    "<h3>1.3. Framing the problem</h3>\n",
    "\n",
    "<p>Our goal is to be able to identify bird species by just looking at them. You simply take a picture of the bird and our trained model will tell you what kind of bird this is. Since our dataset is fully lableled, meaning all the pictures have a label (bird species name) that the model can check, we chose the <b>Supervised Learning</b> approach. This means we will most likely choose a classification model to classify an image to a specie's name.</p>"
   ]
  },
  {
   "cell_type": "markdown",
   "metadata": {},
   "source": [
    "<style>\n",
    "\tp {\n",
    "\t\tline-height: 180%;\n",
    "\t}\n",
    "</style>\n",
    "<h2>2. About the data</h2>\n",
    "<p>\n",
    "We have decided to use birds classification dataset from <a href=\"https://www.kaggle.com/datasets/gpiosenka/100-bird-species\">kaggle</a>. It has a large number of training images (almost 85,000!) and includes over 500 different kinds of birds. This will help our model learn to identify lots of different bird species. We wanted a dataset with lots of high-quality images, good bird visibility, and this one fits us well. Important note is that all the images are photographed and not AI generated. While there are a few things to keep in mind, like each picture only having one bird, which can be good or bad, and also the images are 80% male, we believe this dataset is a good choice for our bird classification project.\n",
    "</p>\n",
    "\n",
    "<h3>Size and type of data</h3>\n",
    "<p>\n",
    "As mentioned earlier, the dataset contains almost 85K good quality images.   \n",
    "<ul>\n",
    "\t<li>The images are sized 224 X 224 and are in JPG format.</li>\n",
    "\t<li>The average image size is around 20kB.</li>\n",
    "\t<li>The images are photographed during all seasons and it should contain species from every continent.</li>\n",
    "</ul>\n",
    "</p>"
   ]
  },
  {
   "cell_type": "markdown",
   "metadata": {},
   "source": [
    "<h2>3. Data exploration</h2>\n",
    "\n",
    "<h4>3.1 Features and it's characteristics</h4>"
   ]
  },
  {
   "cell_type": "code",
   "execution_count": 1,
   "metadata": {},
   "outputs": [
    {
     "data": {
      "text/html": [
       "<div>\n",
       "<style scoped>\n",
       "    .dataframe tbody tr th:only-of-type {\n",
       "        vertical-align: middle;\n",
       "    }\n",
       "\n",
       "    .dataframe tbody tr th {\n",
       "        vertical-align: top;\n",
       "    }\n",
       "\n",
       "    .dataframe thead th {\n",
       "        text-align: right;\n",
       "    }\n",
       "</style>\n",
       "<table border=\"1\" class=\"dataframe\">\n",
       "  <thead>\n",
       "    <tr style=\"text-align: right;\">\n",
       "      <th></th>\n",
       "      <th>class id</th>\n",
       "      <th>filepaths</th>\n",
       "      <th>labels</th>\n",
       "      <th>data set</th>\n",
       "      <th>scientific name</th>\n",
       "    </tr>\n",
       "  </thead>\n",
       "  <tbody>\n",
       "    <tr>\n",
       "      <th>0</th>\n",
       "      <td>0.0</td>\n",
       "      <td>train/ABBOTTS BABBLER/001.jpg</td>\n",
       "      <td>ABBOTTS BABBLER</td>\n",
       "      <td>train</td>\n",
       "      <td>MALACOCINCLA ABBOTTI</td>\n",
       "    </tr>\n",
       "    <tr>\n",
       "      <th>1</th>\n",
       "      <td>0.0</td>\n",
       "      <td>train/ABBOTTS BABBLER/007.jpg</td>\n",
       "      <td>ABBOTTS BABBLER</td>\n",
       "      <td>train</td>\n",
       "      <td>MALACOCINCLA ABBOTTI</td>\n",
       "    </tr>\n",
       "    <tr>\n",
       "      <th>2</th>\n",
       "      <td>0.0</td>\n",
       "      <td>train/ABBOTTS BABBLER/008.jpg</td>\n",
       "      <td>ABBOTTS BABBLER</td>\n",
       "      <td>train</td>\n",
       "      <td>MALACOCINCLA ABBOTTI</td>\n",
       "    </tr>\n",
       "    <tr>\n",
       "      <th>3</th>\n",
       "      <td>0.0</td>\n",
       "      <td>train/ABBOTTS BABBLER/009.jpg</td>\n",
       "      <td>ABBOTTS BABBLER</td>\n",
       "      <td>train</td>\n",
       "      <td>MALACOCINCLA ABBOTTI</td>\n",
       "    </tr>\n",
       "    <tr>\n",
       "      <th>4</th>\n",
       "      <td>0.0</td>\n",
       "      <td>train/ABBOTTS BABBLER/002.jpg</td>\n",
       "      <td>ABBOTTS BABBLER</td>\n",
       "      <td>train</td>\n",
       "      <td>MALACOCINCLA ABBOTTI</td>\n",
       "    </tr>\n",
       "    <tr>\n",
       "      <th>...</th>\n",
       "      <td>...</td>\n",
       "      <td>...</td>\n",
       "      <td>...</td>\n",
       "      <td>...</td>\n",
       "      <td>...</td>\n",
       "    </tr>\n",
       "    <tr>\n",
       "      <th>89880</th>\n",
       "      <td>524.0</td>\n",
       "      <td>valid/BLACK BREASTED PUFFBIRD/3.jpg</td>\n",
       "      <td>BLACK BREASTED PUFFBIRD</td>\n",
       "      <td>valid</td>\n",
       "      <td>NOTHARCHUS PECTORALIS</td>\n",
       "    </tr>\n",
       "    <tr>\n",
       "      <th>89881</th>\n",
       "      <td>524.0</td>\n",
       "      <td>valid/BLACK BREASTED PUFFBIRD/4.jpg</td>\n",
       "      <td>BLACK BREASTED PUFFBIRD</td>\n",
       "      <td>valid</td>\n",
       "      <td>NOTHARCHUS PECTORALIS</td>\n",
       "    </tr>\n",
       "    <tr>\n",
       "      <th>89882</th>\n",
       "      <td>524.0</td>\n",
       "      <td>valid/BLACK BREASTED PUFFBIRD/1.jpg</td>\n",
       "      <td>BLACK BREASTED PUFFBIRD</td>\n",
       "      <td>valid</td>\n",
       "      <td>NOTHARCHUS PECTORALIS</td>\n",
       "    </tr>\n",
       "    <tr>\n",
       "      <th>89883</th>\n",
       "      <td>524.0</td>\n",
       "      <td>valid/BLACK BREASTED PUFFBIRD/2.jpg</td>\n",
       "      <td>BLACK BREASTED PUFFBIRD</td>\n",
       "      <td>valid</td>\n",
       "      <td>NOTHARCHUS PECTORALIS</td>\n",
       "    </tr>\n",
       "    <tr>\n",
       "      <th>89884</th>\n",
       "      <td>524.0</td>\n",
       "      <td>valid/BLACK BREASTED PUFFBIRD/5.jpg</td>\n",
       "      <td>BLACK BREASTED PUFFBIRD</td>\n",
       "      <td>valid</td>\n",
       "      <td>NOTHARCHUS PECTORALIS</td>\n",
       "    </tr>\n",
       "  </tbody>\n",
       "</table>\n",
       "<p>89885 rows × 5 columns</p>\n",
       "</div>"
      ],
      "text/plain": [
       "       class id                            filepaths                   labels  \\\n",
       "0           0.0        train/ABBOTTS BABBLER/001.jpg          ABBOTTS BABBLER   \n",
       "1           0.0        train/ABBOTTS BABBLER/007.jpg          ABBOTTS BABBLER   \n",
       "2           0.0        train/ABBOTTS BABBLER/008.jpg          ABBOTTS BABBLER   \n",
       "3           0.0        train/ABBOTTS BABBLER/009.jpg          ABBOTTS BABBLER   \n",
       "4           0.0        train/ABBOTTS BABBLER/002.jpg          ABBOTTS BABBLER   \n",
       "...         ...                                  ...                      ...   \n",
       "89880     524.0  valid/BLACK BREASTED PUFFBIRD/3.jpg  BLACK BREASTED PUFFBIRD   \n",
       "89881     524.0  valid/BLACK BREASTED PUFFBIRD/4.jpg  BLACK BREASTED PUFFBIRD   \n",
       "89882     524.0  valid/BLACK BREASTED PUFFBIRD/1.jpg  BLACK BREASTED PUFFBIRD   \n",
       "89883     524.0  valid/BLACK BREASTED PUFFBIRD/2.jpg  BLACK BREASTED PUFFBIRD   \n",
       "89884     524.0  valid/BLACK BREASTED PUFFBIRD/5.jpg  BLACK BREASTED PUFFBIRD   \n",
       "\n",
       "      data set        scientific name  \n",
       "0        train   MALACOCINCLA ABBOTTI  \n",
       "1        train   MALACOCINCLA ABBOTTI  \n",
       "2        train   MALACOCINCLA ABBOTTI  \n",
       "3        train   MALACOCINCLA ABBOTTI  \n",
       "4        train   MALACOCINCLA ABBOTTI  \n",
       "...        ...                    ...  \n",
       "89880    valid  NOTHARCHUS PECTORALIS  \n",
       "89881    valid  NOTHARCHUS PECTORALIS  \n",
       "89882    valid  NOTHARCHUS PECTORALIS  \n",
       "89883    valid  NOTHARCHUS PECTORALIS  \n",
       "89884    valid  NOTHARCHUS PECTORALIS  \n",
       "\n",
       "[89885 rows x 5 columns]"
      ]
     },
     "metadata": {},
     "output_type": "display_data"
    }
   ],
   "source": [
    "import pandas as pd\n",
    "\n",
    "rawData = pd.read_csv('./archive_exploration/birds.csv')\n",
    "\n",
    "display(rawData)"
   ]
  },
  {
   "cell_type": "markdown",
   "metadata": {},
   "source": [
    "<style>\n",
    "\tp {\n",
    "\t\tline-height: 180%;\n",
    "\t}\n",
    "</style>\n",
    "<p>As we can see above, the dataset has alsoms 90000 datapoints and 5 different features - <b><i>class id</i></b>, <b><i>filepaths</i></b>, <b><i>labels</i></b>, <b><i>dataset</i></b>, and <b><i>scientific name</i></b>. The <b><i>class id</i></b>, <b><i>labels</i></b>, and <b><i>scientific name</i></b> are self explanatory, the <b><i>filepaths</i></b> is a string which contains a path to the image of that particular datapoint. In the feature  <b><i>data set</i></b> we can see that the author of the dataset has already divided the data into train, valid, and test splits. </p>"
   ]
  },
  {
   "cell_type": "code",
   "execution_count": 2,
   "metadata": {},
   "outputs": [
    {
     "name": "stdout",
     "output_type": "stream",
     "text": [
      "class id           float64\n",
      "filepaths           object\n",
      "labels              object\n",
      "data set            object\n",
      "scientific name     object\n",
      "dtype: object\n",
      "\n",
      "\n",
      "\n",
      "class id : 525\n",
      "filepaths : 89885\n",
      "labels : 525\n",
      "data set : 3\n",
      "scientific name : 522\n"
     ]
    }
   ],
   "source": [
    "#Check the feature's data types\n",
    "print(rawData.dtypes)\n",
    "\n",
    "print(\"\\n\\n\")\n",
    "\n",
    "#Print how many different values there are in each feature\n",
    "for column in rawData.columns:\n",
    "    print(column, \":\", len(rawData[column].unique()))"
   ]
  },
  {
   "cell_type": "markdown",
   "metadata": {},
   "source": [
    "<style>\n",
    "\tp {\n",
    "\t\tline-height: 180%;\n",
    "\t}\n",
    "</style>\n",
    "<p>The feature datatypes are mostly objects as printed out above. That means that its values are categorical. The least categorias are in the <b><i>data set</i></b> feature - 3 and the most is of course in the <b><i>filepaths</i></b> as each of those values should be unique. What is intersting is that the number of values for features <b><i>labels</i></b> and <b><i>scientific name</i></b> are not the same, 525 : 522. Let's investigate that further.</p>"
   ]
  },
  {
   "cell_type": "code",
   "execution_count": 3,
   "metadata": {},
   "outputs": [
    {
     "name": "stdout",
     "output_type": "stream",
     "text": [
      "scientific name\n",
      "PSITTACULA EUPATRIA         2\n",
      "COLAPTES AURATUS            2\n",
      "COLUMBA LIVIA               2\n",
      "PASSERINA CYANEA            1\n",
      "PARIDAE                     1\n",
      "                           ..\n",
      "DENDRAGAPUS OBSCURUS        1\n",
      "DELICHON URBICUM            1\n",
      "DACNIS CAYANA               1\n",
      "DACELO                      1\n",
      "ZOSTEROPS MADERASPATANUS    1\n",
      "Name: labels, Length: 522, dtype: int64\n",
      "\n",
      "\n",
      "\n",
      "PSITTACULA EUPATRIA: ['ALEXANDRINE PARAKEET' 'AMERICAN AVOCET']\n",
      "COLAPTES AURATUS: ['GILDED FLICKER' 'NORTHERN FLICKER']\n",
      "COLUMBA LIVIA: ['JACOBIN PIGEON' 'ROCK DOVE']\n"
     ]
    }
   ],
   "source": [
    "print(rawData.groupby('scientific name')['labels'].nunique().sort_values(ascending=False))\n",
    "\n",
    "print(\"\\n\\n\")\n",
    "print(\"PSITTACULA EUPATRIA:\", rawData[rawData['scientific name'] == 'PSITTACULA EUPATRIA']['labels'].unique())\n",
    "print(\"COLAPTES AURATUS:\", rawData[rawData['scientific name'] == 'COLAPTES AURATUS']['labels'].unique())\n",
    "print(\"COLUMBA LIVIA:\", rawData[rawData['scientific name'] == 'COLUMBA LIVIA']['labels'].unique())"
   ]
  },
  {
   "cell_type": "markdown",
   "metadata": {},
   "source": [
    "<style>\n",
    "\tp {\n",
    "\t\tline-height: 180%;\n",
    "\t}\n",
    "</style>\n",
    "<p>As it turns out there are 3 <b><i>scientific names</b></i> where each of them maps to 2 different <b><i>labels</b></i>, as you can see above. This indicates that the best idea is to classify by the <b><i>labels</b></i> feature as doing otherwise would cause the model to be unsufficient.</p>"
   ]
  },
  {
   "cell_type": "code",
   "execution_count": 4,
   "metadata": {},
   "outputs": [
    {
     "name": "stdout",
     "output_type": "stream",
     "text": [
      "class id           0.0\n",
      "filepaths          0.0\n",
      "labels             0.0\n",
      "data set           0.0\n",
      "scientific name    0.0\n",
      "dtype: float64\n",
      "\n",
      "Number of duplicated rows: 0\n"
     ]
    }
   ],
   "source": [
    "#Check the percentage of missing values in each feature\n",
    "print(rawData.isnull().mean())\n",
    "\n",
    "#Check if there are any duplicate rows\n",
    "print(\"\\nNumber of duplicated rows:\", rawData.duplicated().sum())"
   ]
  },
  {
   "cell_type": "markdown",
   "metadata": {},
   "source": [
    "<style>\n",
    "\tp {\n",
    "\t\tline-height: 180%;\n",
    "\t}\n",
    "</style>\n",
    "<p>Since we chose a well maintained dataset for our project we can see that there is 0 data missing, which means we can use the whole dataset without worries. We also checked if there are any duplicates in the dataset, it turns out there are not but it is a good habit to check that because if there were any duplicates we would like to get rid of them. The reason is that if one of the duplicated would be in the training set and another one in the test set it would compromise the performance of our model.</p>"
   ]
  },
  {
   "cell_type": "markdown",
   "metadata": {},
   "source": [
    "<style>\n",
    "\tp {\n",
    "\t\tline-height: 180%;\n",
    "\t}\n",
    "</style>\n",
    "<h4>3.4 Identifying the target</h4>\n",
    "\n",
    "<p>Our target is the feature <b><i>labels</i></b>. As argumented before it is a better choice than <b><i>scientific name</i></b> because of the duplicates present in that feature.</p>"
   ]
  }
 ],
 "metadata": {
  "kernelspec": {
   "display_name": "venv",
   "language": "python",
   "name": "python3"
  },
  "language_info": {
   "codemirror_mode": {
    "name": "ipython",
    "version": 3
   },
   "file_extension": ".py",
   "mimetype": "text/x-python",
   "name": "python",
   "nbconvert_exporter": "python",
   "pygments_lexer": "ipython3",
   "version": "3.11.6"
  }
 },
 "nbformat": 4,
 "nbformat_minor": 2
}
